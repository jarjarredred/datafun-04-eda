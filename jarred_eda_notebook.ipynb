{
 "cells": [
  {
   "cell_type": "markdown",
   "id": "533bdb9a",
   "metadata": {},
   "source": [
    "# Jarred: Exploratory Data Analysis Project, May 26 2025"
   ]
  },
  {
   "cell_type": "markdown",
   "id": "17d3af04",
   "metadata": {},
   "source": [
    "# Section 1: Imports"
   ]
  },
  {
   "cell_type": "code",
   "execution_count": 1,
   "id": "3ebd4815",
   "metadata": {},
   "outputs": [],
   "source": [
    "import pandas as pd\n",
    "import seaborn as sns\n",
    "import matplotlib \n",
    "\n",
    "# Axes object (basic plot type returned by Seaborn)\n",
    "from matplotlib.axes import Axes"
   ]
  },
  {
   "cell_type": "code",
   "execution_count": 2,
   "id": "b6754e58",
   "metadata": {},
   "outputs": [
    {
     "name": "stdout",
     "output_type": "stream",
     "text": [
      "Starting out with Jupyter.\n"
     ]
    }
   ],
   "source": [
    "import pandas as pd\n",
    "print(\"Starting out with Jupyter.\")"
   ]
  }
 ],
 "metadata": {
  "kernelspec": {
   "display_name": ".venv",
   "language": "python",
   "name": "python3"
  },
  "language_info": {
   "codemirror_mode": {
    "name": "ipython",
    "version": 3
   },
   "file_extension": ".py",
   "mimetype": "text/x-python",
   "name": "python",
   "nbconvert_exporter": "python",
   "pygments_lexer": "ipython3",
   "version": "3.13.2"
  }
 },
 "nbformat": 4,
 "nbformat_minor": 5
}
